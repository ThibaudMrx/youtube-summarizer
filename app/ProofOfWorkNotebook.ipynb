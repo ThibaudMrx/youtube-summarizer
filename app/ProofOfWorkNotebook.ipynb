{
 "cells": [
  {
   "cell_type": "code",
   "execution_count": 1,
   "metadata": {},
   "outputs": [],
   "source": [
    "import logging\n",
    "import whisper\n",
    "import os\n",
    "import time\n",
    "from yt_dlp import YoutubeDL\n",
    "import matplotlib.pyplot as plt\n",
    "\n",
    "youtubeVideotestURL = 'http://www.youtube.com/watch?v=4FTIVJEBkNY'"
   ]
  },
  {
   "cell_type": "markdown",
   "metadata": {},
   "source": [
    "# 1. Extracting audio from the video"
   ]
  },
  {
   "cell_type": "code",
   "execution_count": 2,
   "metadata": {},
   "outputs": [
    {
     "name": "stdout",
     "output_type": "stream",
     "text": [
      "[youtube] Extracting URL: http://www.youtube.com/watch?v=4FTIVJEBkNY\n",
      "[youtube] 4FTIVJEBkNY: Downloading webpage\n",
      "[youtube] 4FTIVJEBkNY: Downloading tv player API JSON\n",
      "[youtube] 4FTIVJEBkNY: Downloading ios player API JSON\n",
      "[youtube] 4FTIVJEBkNY: Downloading m3u8 information\n",
      "[info] 4FTIVJEBkNY: Downloading 1 format(s): 251\n",
      "[download] Destination: audio.webm\n",
      "[download] 100% of    9.53MiB in 00:00:00 at 15.64MiB/s    \n",
      "[ExtractAudio] Destination: audio.mp3\n",
      "Deleting original file audio.webm (pass -k to keep)\n"
     ]
    },
    {
     "name": "stderr",
     "output_type": "stream",
     "text": [
      "2025-01-22 17:46:21,145 - INFO - Time taken for step 1: 26.8 seconds\n"
     ]
    }
   ],
   "source": [
    "# Configure logging\n",
    "logging.basicConfig(level=logging.INFO, format='%(asctime)s - %(levelname)s - %(message)s')\n",
    "logger = logging.getLogger(__name__)\n",
    "\n",
    "def download_audio_ytdlp(youtube_url, output_path=\"audio.mp3\"):\n",
    "    # Define download options\n",
    "    ydl_opts = {\n",
    "        'format': 'bestaudio/best',\n",
    "        'postprocessors': [\n",
    "            {   \n",
    "                'key': 'FFmpegExtractAudio',\n",
    "                'preferredcodec': 'mp3',\n",
    "                'preferredquality': '192',\n",
    "            }\n",
    "        ],\n",
    "        'ffmpeg-location': '/usr/bin/ffmpeg',\n",
    "        'outtmpl': 'audio.%(ext)s',  # Save as 'audio.ext'\n",
    "    }\n",
    "    \n",
    "    # Download the audio\n",
    "    with YoutubeDL(ydl_opts) as ydl:\n",
    "        ydl.download([youtube_url])\n",
    "    \n",
    "    # Ensure the output file exists\n",
    "    if not os.path.exists(\"audio.mp3\"):\n",
    "        raise FileNotFoundError(\"Audio file not found!\")\n",
    "    \n",
    "    return output_path\n",
    "\n",
    "\n",
    "start_time = time.time()\n",
    "download_audio_ytdlp(youtubeVideotestURL)\n",
    "end_time = time.time()\n",
    "\n",
    "time_dict = {\"Downloading audio\": end_time - start_time}\n",
    "logger.info(f\"Time taken for step 1: {time_dict['Downloading audio']:.1f} seconds\")"
   ]
  },
  {
   "cell_type": "markdown",
   "metadata": {},
   "source": [
    "# 2. Transcribing the audio file"
   ]
  },
  {
   "cell_type": "code",
   "execution_count": 3,
   "metadata": {},
   "outputs": [
    {
     "name": "stderr",
     "output_type": "stream",
     "text": [
      "2025-01-22 17:46:21,157 - INFO - Audio file found: audio.mp3\n",
      "2025-01-22 17:46:21,158 - INFO - Loading Whisper model: base\n",
      "/home/thibaud/Documents/travail/youtube-summarizer/venv/lib/python3.12/site-packages/whisper/__init__.py:150: FutureWarning: You are using `torch.load` with `weights_only=False` (the current default value), which uses the default pickle module implicitly. It is possible to construct malicious pickle data which will execute arbitrary code during unpickling (See https://github.com/pytorch/pytorch/blob/main/SECURITY.md#untrusted-models for more details). In a future release, the default value for `weights_only` will be flipped to `True`. This limits the functions that could be executed during unpickling. Arbitrary objects will no longer be allowed to be loaded via this mode unless they are explicitly allowlisted by the user via `torch.serialization.add_safe_globals`. We recommend you start setting `weights_only=True` for any use case where you don't have full control of the loaded file. Please open an issue on GitHub for any issues related to this experimental feature.\n",
      "  checkpoint = torch.load(fp, map_location=device)\n",
      "2025-01-22 17:46:23,107 - INFO - Model loaded into memory. Size: 273.99 MB\n",
      "2025-01-22 17:46:23,107 - INFO - Transcribing audio file: audio.mp3\n",
      "2025-01-22 17:48:00,296 - INFO - Transcription completed successfully\n",
      "2025-01-22 17:48:00,298 - INFO - Transcription saved to transcription.txt\n",
      "2025-01-22 17:48:00,299 - INFO - Transcription:  ... Ravis d'en trouver sur RT pour un nouveau numéro du dessous des cartes. Aujourd'hui, je vous emmène sur l'île américaine Saint Laurent. Saint Laurent, en Alaska, une plage près de Gambel, au bord de la mer de Berring. Et l'histoire folle de ces deux citoyens russes arrivées sur un petit bâto en octobre 2022 pour demander l'asile aux États-Unis. Les deux hommes fuyaient la Russie de Vladimir Putin et l'ordre de mobilisation pour aller faire la guerre en Ukraine, en passant par le détroit de Berring pour arriver à cet endroit de la Alaska, qui n'est situé qu'à environ 65 km des côtes russes. Vous l'aurez compris, on vous emmène aujourd'hui en ce point de la planète où Russie et États-Unis, les deux grands rivaux de la guerre froide, ne sont distincts que de quelques kilomètres et dans une région l'arctique où se joue des enjeux majeurs de notre siècle où vous allez voir sortons nos cartes. Le détroit de Berring est situé à une centaine de kilomètres au sud du cercle polaire. Il sépare la Chukotka, indistrique autonome de la Russie et région la plus orientale du supercontinent orasien, de la Alaska, 49 mai-tats des États-Unis, était éritoire le plus occidental du continent américain. C'est donc le lieu où les puissances russes et américaines sont les plus proches 85 km seulement sépare les deux pays au niveau le plus recéré du détroit. Autre singularité de cette région du monde, les deux îles diomèdes, distantes de seulement 3 km. La petite diomède est américaine, unis l'habité par une centaine de personnes, des pêcheurs de foc et de balaine. Et voici maintenant la grande diomède, s'est-il les Russes et n'a plus de populations permanentes depuis que l'URSS y a implanté une base militaire en 1948, laquelle s'est encore aujourd'hui débargement au garde-côt russe. Frontière Russaux américaine, le détroit de Berring est aussi un lieu de passage stratégique entre deux océans, arctiques et pacifiques. Après sa découverte, en 1741 par le marin d'Annois Vitus Berring, qui officiait pour le Tsar-Russe, le détroit est devenu le lieu de transit pour les colonnes russes d'Amérique, spécialisé dans le commerce des fourrurs. Des comptoirs russes se sont établies en Alaska et même jusqu'en Californi à Forrosse, au nord de San Francisco, jusqu'à ce qu'en 1867, le Tsar, Alexandre II, revende la Alaska aux Etats-Unis pour 7 millions de dollars, l'équivalent de trois saisons de chasse. Au XXe siècle, le détroit de Berring est alors devenu le baromètre des relations entre les deux grandes puissances de la guerre froide. Durant ces années, américains et soviétiques établissent des bases militaires le long des côtes, jusqu'à ce détroit où les deux puissants se font face. Le détroit de Berring est alors surnommé le Rido de Glass. Mais aujourd'hui, c'est la fonte de ces glaces dans l'océan arctique qui vient bousculer les enjeux géopolitiques de la région. Regardez l'emprise des glaces dans le détroit de Berring au début du printemps au mois d'avril 2013. Le détroit est alors recouvert de Glass. Voici maintenant l'emprise des glaces en Avril, 2014, 2015, 2016, 2017 et en Avril 2018. Pour la première fois depuis le début des observations, le détroit est libre de Glass. Le réchauffement climatique est en effet quatre fois plus accès en arctique cahière sur la planète, en 40 ans, la banquise a perdu environ 40 % de sa surface et elle devrait totalement disparaître pendant les mois d'été dès 2035. Alors que le détroit a été pris par les glaces six mois par an dans les années 1980, rendant impossible toute navigation, il est désormais régulièrement navigable en plein hiver. Une nouvelle route commerciale, la route dite du Nord-Est, est ainsi en train de souvrir entre les ports du Pacifique et les ports européens. Pour lier par exemple Shanghai à Rotardam, les portes contenaires n'aurait plus que 15790 km à parcourir, alors que la route traditionnelle actuelle passe par le détroit de Malacca et par le canal de Suèse est longue de 19.550 km. L'ouverture du détroit à la navigation régulière permettrait également de relier la côte-ouest des Etats-Unis à l'Europe par la route dite du Nord-ouest. 12.770 km séparciétolles de Hambour, en passant par le détroit de Bering, contre 17.10 km, en passant par le canal de Panama. Il faut se pendant nuancer ses projections, en effet, ces routes maritimes restent à ce jour très peu empruntés, la navigation est demeure perilleuse, du fait d'une mer peu profonde et de la présence d'Eisberg. Seule une cinquantaine de navires par an transite actuellement par le détroit de Bering contre 80.000 par le détroit de Malacca, 17.000 par le canal de Suèse et 15.000 par le canal de Panama. Mais forcée de constater que le trafic dans le détroit de Bering est en constante augmentation. A plus long terme, une route via le Pôle Nord, la route transpolaire, pourrait même encore réduire les distances de transit. Ces nouveaux itinéraires replaceraient la Russie au cœur des échanges commerciaux mondiaux et pour être intensifié ces liens maritimes avec la Chine, son principal cuyant angase et en pétrole. Paradoxalement, le réchauffement climatique est perçu par le crème-lin comme une opportunité économique et politique, alors que l'accès aux ressources naturelles devient plus facile, la Russie relance ses revendications territoriales dans le Grand Nord. Vraiment, la Dmire Poutine a même fait de l'artique un enjeu prioritaire dans l'affirmation de la puissance russe et c'est ce qu'on va voir maintenant. 83 % du gaz produit en Russie et 17 % de son pétrole proviennent de l'artique. Et selon l'USG écoles surveilles, l'océan arctique recèleraif 22 % des réserves inexploité d'hydrocarbures dans le monde. Alors comment savoir à qui appartiennent ces réserves ? Selon le droit international, les zones économiques exclusives, ces espaces maritimes délimitées dans lesquelles un état a le droit d'exploiter les ressources naturelles qui s'y trouvent, s'étendent sur un espace de 200 000 nautiques soit 360 km à partir de ces côtes. Un état peut même revendiquer son extension jusqu'à 350 000, s'il prouve que son plateau continental se poursuit au-delà. Sauf que cet argument géologique fait litige. En 2001, la Russie a déposé une requête auprès de l'ONU pour redéfinir les limites de son plateau continental qui intégreraient la d'Orsale Lomonosoph, sous laquelle se trouve d'importantes ressources en hydrocarbures, tandis que le Canada affirme que la d'Orsale se trouve sur la plaque technique nord-américaine et que le Danemark considère que sa position serait plus proche du Grand Lande région autonome Danoise. A défaut d'accordes internationaux, ses revendications territoriales donnent lieu à des provocations diplomatiques. En 2007, la Russie a ainsi planté un drapeau à 4600 mètres de profondeur grâce à un sous-marin de poche sous le Pôle Nord. Alors pour comprendre les ambitions rues sans arctique, observons à présent la ville de Mourmansk. Si tu as l'extrême nord-ouest de la Russie, à 1 300 km de Saint-Petersbourg, c'est la ville la plus peuplée au nord du cercle polaire avec 280 000 habitants. Son port a un atout majeur. Il peut fonctionner toute l'année car ces autres nojelles jamais grâce au passage de la dérive nord-Atlantique, un courant marin issu de Goldstrime. Le port de Mourmansk est ainsi la tête de pont de la Russie vers le Grand Nord et vers ses ressources naturelles. Mourmansk est d'abord un port de pêche, l'un des plus importants d'Europe. Les bâtourus, sans part, pourraient les pécher jusqu'au large du Grand Lande et même dans la zone économique de la Norvège, conformément à des accords internationaux. C'est également là qu'estationné la flotte des brises grâce à propulsion nucléaire dont la Russie se sert pour exploiter légisement de gaz et de pétrole dans les eaux glacés du Grand Nord. Surtout, le crème-là à l'ambition de faire du port de Mourmansk est un gigantesque hub entre légisement de la péninsule de Yamal et les portes importateurs européens et chinois. L'ontant la Russie a joué la carte de la stabilité politique régional. Elle participe au conseil arctique avec l'ensemble des pays rivrins et à même signer en avril 2010 un accord, toujours avec la Norvège, pour se répartir l'exploitation du pétrole de la mer de Barrens. Mais le temps des concertations internationales est révolue. L'invasion russe de l'Ukraine a sonné le retour de la confrontation entre la Russie et les Etats-Unis. Moscou renforce ces bases militaires tout au long de son littoral arctique depuis le détroit de Bering jusqu'à Mourmansk. La base de Céveraumorsk à 25 km de Mourmansk est la principale base de la Flotte du Nord. Elle abrite les deux tiers des Soumarins Russes, une base aérienne à Olénya, complète cet arsenal et 25 à 30 000 soldats y sont postées en permanence. De leur côté, les Américains ont décidé d'agrandir le port de Nôme pour mieux surveiller l'approche du détroit de Bering. Des chasseurs F-35 ont été relocalisés sur la base aérienne de Fairbanks et une base anti-missile à Delta Junction. Par ailleurs, la base militaire de Pytoufik construite dans les années 1940 aux Groenlandes par les Etats-Unis est également redevenue un élément clé de leur système anti-missile. Enfin, la faillant des la Suède ont adhéré à l'automne en 2023 et 2024. A près 40 années de dégel, l'arctique devient donc un lieu de confrontation entre la Russie et les puissances occidentales. Pour cette région stratégique de l'arctique, qui donne des idées à la Russie de Vladimir Putin, on l'a vu et à la Chine de Chishinping, lesquels voit l'intérêt de cette nouvelle route du Nord permise par le réchauffement qui évite les routes encombrées de Suès et de Malacca. La Chine qui s'est déclarée en 2018, nation proche de l'arctique, alors même qu'elle se situe à 1500 km du cercle polaire, pêquins s'équipe, en avire Brice-Glaç et en outre ternier, on a même pu apercevoir un Brice-Glaç chinois dans le port russe de Mourmansk. La coopération Sinorus existe aussi, dans cette région du monde. Pour aller plus loin, ce numéro de la revue d'occupantation photographique par Camille Escoudée, les Pôles, paru en octobre 2024. Ainsi, ça chève ce nouveau numéro du dessous des cartes rendez-vous bien sur la semaine prochaine, même en droit même heure, et d'ici la n'oubliez pas, arté.tv et nos réseaux sociaux pour retrouver l'ensemble de nos vidéos et notre newsletter. À bientôt ! ...\n",
      "2025-01-22 17:48:00,300 - INFO - Time taken for step 2: 99.1 seconds\n"
     ]
    }
   ],
   "source": [
    "audio_path = \"audio.mp3\"\n",
    "\n",
    "def transcribe_audio(audio_path, model_name=\"base\"):\n",
    "    logger.info(f\"Loading Whisper model: {model_name}\")\n",
    "    model = whisper.load_model(model_name, download_root=None, in_memory=True)\n",
    "\n",
    "    model_size = sum(p.numel() for p in model.parameters() if p.requires_grad) * 4 / (1024 ** 2)  # size in MB\n",
    "    logger.info(f\"Model loaded into memory. Size: {model_size:.2f} MB\")\n",
    "    logger.info(f\"Transcribing audio file: {audio_path}\")\n",
    "    result = model.transcribe(audio_path)\n",
    "    \n",
    "    logger.info(\"Transcription completed successfully\")\n",
    "    return result[\"text\"]\n",
    "\n",
    "\n",
    "if os.path.exists(audio_path):\n",
    "    logger.info(f\"Audio file found: {audio_path}\")\n",
    "\n",
    "    start_time = time.time()\n",
    "    transcription = transcribe_audio(audio_path)\n",
    "    end_time = time.time()\n",
    "    \n",
    "    time_dict[\"Transcritping audio with Whisper\"] = end_time - start_time\n",
    "    with open(\"transcription.txt\", \"w\") as f:\n",
    "        f.write(transcription)\n",
    "    logger.info(\"Transcription saved to transcription.txt\")\n",
    "    logger.info(f\"Transcription: {transcription}\")\n",
    "    logger.info(f\"Time taken for step 2: {time_dict['Transcritping audio with Whisper']:.1f} seconds\")\n",
    "else:\n",
    "    logger.error(f\"Audio file not found: {audio_path}\")"
   ]
  },
  {
   "cell_type": "markdown",
   "metadata": {},
   "source": [
    "# 3. Creating chunks from the audio file\n",
    "\n",
    "This step ensures the summarization LLM is fed bite-sized chunks of data, and context is kept throughout the extraction for any video size or length"
   ]
  },
  {
   "cell_type": "code",
   "execution_count": 4,
   "metadata": {},
   "outputs": [
    {
     "name": "stderr",
     "output_type": "stream",
     "text": [
      "2025-01-22 17:48:00,314 - INFO - Time taken for step 3: 0.0 seconds\n"
     ]
    }
   ],
   "source": [
    "with open(\"transcription.txt\", \"r\") as file:\n",
    "    transcription = file.read()\n",
    "\n",
    "def chunk_text(text, chunk_size=3000):\n",
    "    sentences = text.split('. ')\n",
    "    chunk = []\n",
    "    current_length = 0\n",
    "\n",
    "    for sentence in sentences:\n",
    "        sentence_length = len(sentence) + 2  # account for the period and space\n",
    "        if current_length + sentence_length > chunk_size:\n",
    "            yield '. '.join(chunk) + '.'\n",
    "            chunk = []\n",
    "            current_length = 0\n",
    "        chunk.append(sentence)\n",
    "        current_length += sentence_length\n",
    "\n",
    "    if chunk:\n",
    "        yield '. '.join(chunk) + '.'\n",
    "\n",
    "start_time = time.time()\n",
    "chunks = list(chunk_text(transcription))\n",
    "\n",
    "# Create the directory if it doesn't exist\n",
    "os.makedirs(\"chunks\", exist_ok=True)\n",
    "\n",
    "for i, chunk in enumerate(chunks, start=1):\n",
    "    with open(f\"chunks/chunk_{i}.txt\", \"w\") as f:\n",
    "        f.write(chunk)\n",
    "\n",
    "end_time = time.time()\n",
    "\n",
    "time_dict[\"Chunking transcript\"] = end_time - start_time\n",
    "logger.info(f\"Time taken for step 3: {time_dict['Chunking transcript']:.1f} seconds\")"
   ]
  },
  {
   "cell_type": "markdown",
   "metadata": {},
   "source": [
    "# 4. Extracting key elements from each chunk\n",
    "We feed each chunk to the LLM, and each chunk's transcription text is summarized in bullet points. Each chunk's bullet points are then combined in a single text file"
   ]
  },
  {
   "cell_type": "code",
   "execution_count": 5,
   "metadata": {},
   "outputs": [],
   "source": [
    "from langchain_ollama import OllamaLLM\n",
    "from langchain_core.prompts import ChatPromptTemplate\n",
    "model = OllamaLLM(model=\"mistral\")\n",
    "\n",
    "template = \"\"\"\n",
    "[SYSTEM MESSAGE]\n",
    "You are a helpful assistant that extracts key points from user-provided text. Extract concise bullet points representing the key ideas. You can have 3-7 bullet points per chun, no more. In your answer, do not give numbers to bullet points. \n",
    "No extra commentary. Just the 3-7 key points.\n",
    "\n",
    "[USER MESSAGE]\n",
    "{chunkText}\n",
    "\"\"\"\n",
    "\n",
    "prompt = ChatPromptTemplate.from_template(template)\n",
    "chain = prompt | model"
   ]
  },
  {
   "cell_type": "code",
   "execution_count": 6,
   "metadata": {},
   "outputs": [
    {
     "name": "stderr",
     "output_type": "stream",
     "text": [
      "2025-01-22 17:48:04,608 - INFO - HTTP Request: POST http://127.0.0.1:11434/api/generate \"HTTP/1.1 200 OK\"\n"
     ]
    },
    {
     "name": "stdout",
     "output_type": "stream",
     "text": [
      "Chunk chunk_1.txt processed successfully : \n",
      " 1. The text is about Saint Laurent Island in Alaska, located near Gambel and the Bering Sea.\n",
      "  2. Two Russian citizens arrived on a small boat in October 2022 seeking asylum in the United States, fleeing Russia due to Vladimir Putin's order of mobilization for war in Ukraine.\n",
      "  3. The island is approximately 65 km from Russian coast and is the closest point where Russia and the United States are geographically close.\n",
      "  4. The Bering Strait separates Chukotka, an autonomous region in Russia, and Alaska, a state in the United States.\n",
      "  5. The two Diomede Islands, only 3 km apart, with the smaller Diomede being American and inhabited by a hundred people, and the larger Diomede, Russian and uninhabited since the USSR established a military base there in 1948.\n",
      "  6. The Bering Strait is strategically important as it connects the Arctic and Pacific Oceans.\n",
      "  7. Historically, the Bering Strait was significant for Russian trade colonies in Alaska and even California during the fur trade era, and later became a symbol of Cold War tensions between Russia (then USSR) and the United States. Today, it is affected by Arctic ice melt. \n",
      "\n",
      "\n"
     ]
    },
    {
     "name": "stderr",
     "output_type": "stream",
     "text": [
      "2025-01-22 17:48:16,291 - INFO - HTTP Request: POST http://127.0.0.1:11434/api/generate \"HTTP/1.1 200 OK\"\n"
     ]
    },
    {
     "name": "stdout",
     "output_type": "stream",
     "text": [
      "Chunk chunk_2.txt processed successfully : \n",
      " 1. In April 2014 to 2018, the Strait was free of ice for the first time since observations began.\n",
      "2. Climate change is accelerating in the Arctic four times faster than on the rest of the planet.\n",
      "3. The Arctic ice has lost about 40% of its surface area over the past 40 years and could entirely disappear during summer months by 2035.\n",
      "4. The Strait, which was covered with ice for six months per year in the 1980s, is now navigable throughout winter.\n",
      "5. A new commercial route, the Northeast Route, is emerging between Pacific and European ports.\n",
      "6. This route could reduce shipping distance from Shanghai to Rotterdam by 15,790 km compared to the traditional route through the Strait of Malacca and Suez Canal (19,550 km).\n",
      "7. The opening of the Strait to regular navigation could also connect the west coast of the United States to Europe via the Northwest Route, reducing distance from Hamburg to 12,770 km compared to the Panama Canal route (17,100 km).\n",
      "8. Navigation remains risky due to shallow waters and icebergs.\n",
      "9. Current annual traffic through the Bering Strait is about 50 ships compared to 80,000 through the Strait of Malacca, 17,000 through the Suez Canal, and 15,000 through the Panama Canal.\n",
      "10. Traffic in the Bering Strait is increasing over time.\n",
      "11. In the long term, a polar route could further reduce transit distances.\n",
      "12. The new maritime routes would position Russia at the center of global commercial exchanges and intensify its maritime links with China, its main trade partner and oil supplier.\n",
      "13. Climate change is perceived as an economic and political opportunity by Russian leaders, as access to natural resources becomes easier.\n",
      "14. Russia is reasserting its territorial claims in the Arctic.\n",
      "15. Vladimir Putin has made the Arctic a priority for affirming Russian power, as 83% of Russia's gas and 17% of its oil come from the Arctic.\n",
      "16. According to the U.S. Geological Survey, the Arctic Ocean could hold 22% of undiscovered hydrocarbon reserves worldwide. \n",
      "\n",
      "\n"
     ]
    },
    {
     "name": "stderr",
     "output_type": "stream",
     "text": [
      "2025-01-22 17:48:35,425 - INFO - HTTP Request: POST http://127.0.0.1:11434/api/generate \"HTTP/1.1 200 OK\"\n"
     ]
    },
    {
     "name": "stdout",
     "output_type": "stream",
     "text": [
      "Chunk chunk_3.txt processed successfully : \n",
      " 1. Zones Economiques Exclusives (ZEE) extend 200 nautical miles from a country's coast, but can be extended to 350,000 nautical miles if a country proves its continental shelf continues beyond that point.\n",
      "2. Dispute over the extension of the continental shelf: Russia vs Canada and Denmark over the Kara Sea (Orsale Lomonosoph) with significant hydrocarbon resources.\n",
      "3. Diplomatic provocations due to territorial claims without international agreements.\n",
      "4. In 2007, Russia planted a flag at 4600 meters under the Arctic Ocean near the North Pole.\n",
      "5. Mourmansk is the most populous city north of the Arctic Circle with 280,000 inhabitants.\n",
      "6. Mourmansk's port operates year-round due to the passage of the North Atlantic Drift (NAD), a warm ocean current.\n",
      "7. Mourmansk serves as Russia's gateway to the Arctic and its natural resources, with key industries including fishing, nuclear-powered icebreaker fleet, and potential hub for LNG exports to Europe and China.\n",
      "8. Political instability in the region: Russia has strengthened military bases along its Arctic coastline since the invasion of Ukraine.\n",
      "9. Mourmansk hosts the main base of the Northern Fleet, with Céveraumorsk being the most significant facility at 25 km from Mourmansk. \n",
      "\n",
      "\n"
     ]
    },
    {
     "name": "stderr",
     "output_type": "stream",
     "text": [
      "2025-01-22 17:48:47,170 - INFO - HTTP Request: POST http://127.0.0.1:11434/api/generate \"HTTP/1.1 200 OK\"\n",
      "2025-01-22 17:48:54,292 - INFO - Time taken for step 4: 53.3 seconds\n"
     ]
    },
    {
     "name": "stdout",
     "output_type": "stream",
     "text": [
      "Chunk chunk_4.txt processed successfully : \n",
      " 1. Base houses two-thirds of Russian Submarines and an airbase at Olénya, with 25,000 to 30,000 soldiers stationed permanently.\n",
      "    2. US is expanding the port of Nôme to monitor Bering Strait approach.\n",
      "    3. F-35 fighters relocated to Fairbanks airbase and anti-missile base at Delta Junction.\n",
      "    4. Abandoned US military base in Greenland is key to their anti-missile system again.\n",
      "    5. Sweden joined NATO in autumn 2023 and 2024, increasing strategic Arctic tension between Russia and Western powers.\n",
      "    6. Russia and China see strategic interest in the Arctic due to warming, allowing for a Northern route avoiding Suez and Malacca congestion.\n",
      "    7. China, although located 1500 km from the Arctic Circle, is equipping penguins, operating vessels in Arctic waters, and cooperating with Russia in the region (Sinorus). \n",
      "\n",
      "\n"
     ]
    }
   ],
   "source": [
    "chunk_files = sorted([f for f in os.listdir(\"chunks\") if f.startswith(\"chunk_\") and f.endswith(\".txt\")])\n",
    "# Delete the bulletPoints.txt file if it exists to reset it between each run\n",
    "if os.path.exists(\"bulletPoints.txt\"):\n",
    "    os.remove(\"bulletPoints.txt\")\n",
    "\n",
    "\n",
    "start_time = time.time()\n",
    "\n",
    "for chunk_file in chunk_files:\n",
    "    with open(os.path.join(\"chunks\", chunk_file), \"r\") as file:\n",
    "        chunk_text = file.read()\n",
    "        result = chain.invoke({\"chunkText\": chunk_text})\n",
    "        with open(\"bulletPoints.txt\", \"a\") as bullet_file:\n",
    "            bullet_file.write(f\"{result}\\n\")\n",
    "            print(f\"Chunk {chunk_file} processed successfully : \\n {result} \\n\\n\")\n",
    "\n",
    "end_time = time.time()\n",
    "time_dict[\"Extracting Bullet Points with Mistral\"] = end_time - start_time\n",
    "\n",
    "logger.info(f\"Time taken for step 4: {time_dict['Extracting Bullet Points with Mistral']:.1f} seconds\")"
   ]
  },
  {
   "cell_type": "markdown",
   "metadata": {},
   "source": [
    "(Optionnal : With Mistral we need to format each line. Not a fast implementation but a very simple one for Proof Of Work purposes. Prompt engineering in the summarization prompt should remove the useless numbers\n",
    "Asking an LLM to do this step is slow, but resilient to text formatting output variations from the previous LLM call.)"
   ]
  },
  {
   "cell_type": "code",
   "execution_count": 7,
   "metadata": {},
   "outputs": [
    {
     "name": "stderr",
     "output_type": "stream",
     "text": [
      "2025-01-22 17:48:54,536 - INFO - HTTP Request: POST http://127.0.0.1:11434/api/generate \"HTTP/1.1 200 OK\"\n",
      "2025-01-22 17:48:55,330 - INFO - HTTP Request: POST http://127.0.0.1:11434/api/generate \"HTTP/1.1 200 OK\"\n",
      "2025-01-22 17:48:56,792 - INFO - HTTP Request: POST http://127.0.0.1:11434/api/generate \"HTTP/1.1 200 OK\"\n",
      "2025-01-22 17:48:57,748 - INFO - HTTP Request: POST http://127.0.0.1:11434/api/generate \"HTTP/1.1 200 OK\"\n",
      "2025-01-22 17:48:58,770 - INFO - HTTP Request: POST http://127.0.0.1:11434/api/generate \"HTTP/1.1 200 OK\"\n",
      "2025-01-22 17:49:00,366 - INFO - HTTP Request: POST http://127.0.0.1:11434/api/generate \"HTTP/1.1 200 OK\"\n",
      "2025-01-22 17:49:00,996 - INFO - HTTP Request: POST http://127.0.0.1:11434/api/generate \"HTTP/1.1 200 OK\"\n",
      "2025-01-22 17:49:02,917 - INFO - HTTP Request: POST http://127.0.0.1:11434/api/generate \"HTTP/1.1 200 OK\"\n",
      "2025-01-22 17:49:03,853 - INFO - HTTP Request: POST http://127.0.0.1:11434/api/generate \"HTTP/1.1 200 OK\"\n",
      "2025-01-22 17:49:04,591 - INFO - HTTP Request: POST http://127.0.0.1:11434/api/generate \"HTTP/1.1 200 OK\"\n",
      "2025-01-22 17:49:05,666 - INFO - HTTP Request: POST http://127.0.0.1:11434/api/generate \"HTTP/1.1 200 OK\"\n",
      "2025-01-22 17:49:06,551 - INFO - HTTP Request: POST http://127.0.0.1:11434/api/generate \"HTTP/1.1 200 OK\"\n",
      "2025-01-22 17:49:07,158 - INFO - HTTP Request: POST http://127.0.0.1:11434/api/generate \"HTTP/1.1 200 OK\"\n",
      "2025-01-22 17:49:08,573 - INFO - HTTP Request: POST http://127.0.0.1:11434/api/generate \"HTTP/1.1 200 OK\"\n",
      "2025-01-22 17:49:10,173 - INFO - HTTP Request: POST http://127.0.0.1:11434/api/generate \"HTTP/1.1 200 OK\"\n",
      "2025-01-22 17:49:10,726 - INFO - HTTP Request: POST http://127.0.0.1:11434/api/generate \"HTTP/1.1 200 OK\"\n",
      "2025-01-22 17:49:12,430 - INFO - HTTP Request: POST http://127.0.0.1:11434/api/generate \"HTTP/1.1 200 OK\"\n",
      "2025-01-22 17:49:12,854 - INFO - HTTP Request: POST http://127.0.0.1:11434/api/generate \"HTTP/1.1 200 OK\"\n",
      "2025-01-22 17:49:13,337 - INFO - HTTP Request: POST http://127.0.0.1:11434/api/generate \"HTTP/1.1 200 OK\"\n",
      "2025-01-22 17:49:14,336 - INFO - HTTP Request: POST http://127.0.0.1:11434/api/generate \"HTTP/1.1 200 OK\"\n",
      "2025-01-22 17:49:15,026 - INFO - HTTP Request: POST http://127.0.0.1:11434/api/generate \"HTTP/1.1 200 OK\"\n",
      "2025-01-22 17:49:15,521 - INFO - HTTP Request: POST http://127.0.0.1:11434/api/generate \"HTTP/1.1 200 OK\"\n",
      "2025-01-22 17:49:16,737 - INFO - HTTP Request: POST http://127.0.0.1:11434/api/generate \"HTTP/1.1 200 OK\"\n",
      "2025-01-22 17:49:17,705 - INFO - HTTP Request: POST http://127.0.0.1:11434/api/generate \"HTTP/1.1 200 OK\"\n",
      "2025-01-22 17:49:19,402 - INFO - HTTP Request: POST http://127.0.0.1:11434/api/generate \"HTTP/1.1 200 OK\"\n",
      "2025-01-22 17:49:20,421 - INFO - HTTP Request: POST http://127.0.0.1:11434/api/generate \"HTTP/1.1 200 OK\"\n",
      "2025-01-22 17:49:20,905 - INFO - HTTP Request: POST http://127.0.0.1:11434/api/generate \"HTTP/1.1 200 OK\"\n",
      "2025-01-22 17:49:21,772 - INFO - HTTP Request: POST http://127.0.0.1:11434/api/generate \"HTTP/1.1 200 OK\"\n",
      "2025-01-22 17:49:22,604 - INFO - HTTP Request: POST http://127.0.0.1:11434/api/generate \"HTTP/1.1 200 OK\"\n",
      "2025-01-22 17:49:23,532 - INFO - HTTP Request: POST http://127.0.0.1:11434/api/generate \"HTTP/1.1 200 OK\"\n",
      "2025-01-22 17:49:24,870 - INFO - HTTP Request: POST http://127.0.0.1:11434/api/generate \"HTTP/1.1 200 OK\"\n",
      "2025-01-22 17:49:25,656 - INFO - HTTP Request: POST http://127.0.0.1:11434/api/generate \"HTTP/1.1 200 OK\"\n",
      "2025-01-22 17:49:26,771 - INFO - HTTP Request: POST http://127.0.0.1:11434/api/generate \"HTTP/1.1 200 OK\"\n",
      "2025-01-22 17:49:27,957 - INFO - HTTP Request: POST http://127.0.0.1:11434/api/generate \"HTTP/1.1 200 OK\"\n",
      "2025-01-22 17:49:28,471 - INFO - HTTP Request: POST http://127.0.0.1:11434/api/generate \"HTTP/1.1 200 OK\"\n",
      "2025-01-22 17:49:29,228 - INFO - HTTP Request: POST http://127.0.0.1:11434/api/generate \"HTTP/1.1 200 OK\"\n",
      "2025-01-22 17:49:29,870 - INFO - HTTP Request: POST http://127.0.0.1:11434/api/generate \"HTTP/1.1 200 OK\"\n",
      "2025-01-22 17:49:30,751 - INFO - HTTP Request: POST http://127.0.0.1:11434/api/generate \"HTTP/1.1 200 OK\"\n",
      "2025-01-22 17:49:31,700 - INFO - HTTP Request: POST http://127.0.0.1:11434/api/generate \"HTTP/1.1 200 OK\"\n",
      "2025-01-22 17:49:32,828 - INFO - Time taken for step 4 (cleaning): 38.5 seconds\n"
     ]
    }
   ],
   "source": [
    "cleaning_template = \"\"\"\n",
    "[SYSTEM MESSAGE]\n",
    "You are a helpful assistant that processes text lines. You remove the beginning number (like '1.' '2.') and any indentation from the text. If there's no number, do nothing. Return only the cleaned text. No additional commentary.\n",
    "\n",
    "[USER MESSAGE]\n",
    "{line}\n",
    "\"\"\"\n",
    "\n",
    "\n",
    "cleaning_prompt = ChatPromptTemplate.from_template(cleaning_template)\n",
    "cleaning_chain = cleaning_prompt | model\n",
    "\n",
    "start_time = time.time()\n",
    "\n",
    "with open(\"bulletPoints.txt\", \"r\") as infile, open(\"bulletPointsCleaned.txt\", \"w\") as outfile:\n",
    "    for input_line in infile:\n",
    "        line_str = input_line.strip()\n",
    "        if line_str:\n",
    "            result_line = cleaning_chain.invoke({\"line\": line_str}).strip()\n",
    "            outfile.write(result_line + \"\\n\")\n",
    "\n",
    "end_time = time.time()\n",
    "time_dict[\"Cleaning Bullet Points with Mistral\"] = end_time - start_time\n",
    "logger.info(f\"Time taken for step 4 (cleaning): {time_dict['Cleaning Bullet Points with Mistral']:.1f} seconds\")"
   ]
  },
  {
   "cell_type": "markdown",
   "metadata": {},
   "source": [
    "# 5. Now extracting General Summary"
   ]
  },
  {
   "cell_type": "code",
   "execution_count": 8,
   "metadata": {},
   "outputs": [
    {
     "name": "stderr",
     "output_type": "stream",
     "text": [
      "2025-01-22 17:49:35,674 - INFO - HTTP Request: POST http://127.0.0.1:11434/api/generate \"HTTP/1.1 200 OK\"\n",
      "2025-01-22 17:49:55,888 - INFO - Time taken for calculating summary: 23.0 seconds\n",
      "2025-01-22 17:49:55,889 - INFO - Layout saved to sumary.txt\n"
     ]
    }
   ],
   "source": [
    "\n",
    "\n",
    "layout_template = \"\"\"\n",
    "[SYSTEM MESSAGE]\n",
    "You are a helpful assistant that extracts 3-5 key ideas and their sub-ideas from user-provided text. Return them in a clearly structured layout like:\n",
    "Part 1\n",
    "    1.a\n",
    "    1.b\n",
    "Part 2\n",
    "    2.a\n",
    "    2.b\n",
    "No extra commentary.\n",
    "\n",
    "[USER MESSAGE]\n",
    "{cleanedText}\n",
    "\"\"\"\n",
    "\n",
    "layout_prompt = ChatPromptTemplate.from_template(layout_template)\n",
    "layout_chain = layout_prompt | model\n",
    "\n",
    "with open(\"bulletPointsCleaned.txt\", \"r\") as bc_file:\n",
    "        cleaned_text = bc_file.read()\n",
    "\n",
    "start_time = time.time()\n",
    "final_result = layout_chain.invoke({\"cleanedText\": cleaned_text})\n",
    "end_time = time.time()\n",
    "\n",
    "time_dict[\"Calculating summary\"] = end_time - start_time\n",
    "logger.info(f\"Time taken for calculating summary: {time_dict['Calculating summary']:.1f} seconds\")\n",
    "\n",
    "# reset the summary file betwee each test run\n",
    "if os.path.exists(\"summary.txt\"):\n",
    "    os.remove(\"summary.txt\")\n",
    "\n",
    "with open(\"summary.txt\", \"w\") as layout_file:\n",
    "    layout_file.write(final_result)\n",
    "    logger.info(\"Layout saved to sumary.txt\")"
   ]
  },
  {
   "cell_type": "code",
   "execution_count": 9,
   "metadata": {},
   "outputs": [
    {
     "name": "stdout",
     "output_type": "stream",
     "text": [
      "Summary Extracted:\n",
      "\n",
      " Part 1\n",
      "    1.a Saint Laurent Island is located near Gambel and the Bering Sea, approximately 65 km from Russian coast.\n",
      "    1.b Two Russian citizens arrived on a small boat seeking asylum in October 2022 due to Vladimir Putin's order of mobilization for war in Ukraine.\n",
      "\n",
      "   Part 2\n",
      "    2.a The Bering Strait separates Chukotka, an autonomous region in Russia, and Alaska, a state in the United States.\n",
      "    2.b Historically significant for Russian trade colonies, the Bering Strait later became a symbol of Cold War tensions and is affected by Arctic ice melt. Today, it connects the Arctic and Pacific Oceans.\n",
      "\n",
      "   Part 3\n",
      "    3.a The Bering Strait has become navigable throughout winter due to climate change accelerating in the Arctic four times faster than on the rest of the planet.\n",
      "    3.b A new commercial route, the Northeast Route, is emerging between Pacific and European ports, potentially reducing shipping distance significantly.\n",
      "\n",
      "   Part 4\n",
      "    4.a Climate change presents economic and political opportunities for Russia, as it allows easier access to natural resources in the Arctic.\n",
      "    4.b Russia is reasserting its territorial claims in the Arctic and expanding military bases along its coastline since the invasion of Ukraine.\n",
      "\n",
      "   Part 5\n",
      "    5.a The opening of the Bering Strait to regular navigation could position Russia at the center of global commercial exchanges, intensifying its maritime links with China, its main trade partner and oil supplier.\n",
      "    5.b Climate change also attracts strategic interest from China as it allows for a Northern route avoiding Suez and Malacca congestion.\n",
      "\n",
      "   Part 6\n",
      "    6.a Disputes over the extension of the continental shelf exist between Russia, Canada, and Denmark over the Kara Sea.\n",
      "    6.b Political instability in the region is increasing due to diplomatic provocations and military reinforcements by both Russia and Western powers.\n",
      "\n",
      "   Part 7\n",
      "    7.a Mourmansk serves as Russia's gateway to the Arctic and its natural resources, with key industries including fishing, nuclear-powered icebreaker fleet, and potential hub for LNG exports to Europe and China.\n",
      "    7.b The US is expanding the port of Nome to monitor Bering Strait approach and has relocated F-35 fighters to Fairbanks airbase and an anti-missile base at Delta Junction.\n"
     ]
    },
    {
     "data": {
      "image/png": "[encoded data removed]",
      "text/plain": [
       "<Figure size 1000x600 with 1 Axes>"
      ]
     },
     "metadata": {},
     "output_type": "display_data"
    }
   ],
   "source": [
    "# Print the summary extracted\n",
    "with open(\"summary.txt\", \"r\") as summary_file:\n",
    "    summary = summary_file.read()\n",
    "    print(\"Summary Extracted:\\n\")\n",
    "    print(summary)\n",
    "\n",
    "# Display time per step in a bar chart\n",
    "steps = list(time_dict.keys())\n",
    "times = list(time_dict.values())\n",
    "\n",
    "plt.figure(figsize=(10, 6))\n",
    "plt.bar(steps, times, color='skyblue')\n",
    "plt.xlabel('Steps')\n",
    "plt.ylabel('Time (seconds)')\n",
    "plt.title('Time Taken for Each Step')\n",
    "plt.xticks(rotation=45)\n",
    "plt.show()"
   ]
  }
 ],
 "metadata": {
  "kernelspec": {
   "display_name": "venv",
   "language": "python",
   "name": "python3"
  },
  "language_info": {
   "codemirror_mode": {
    "name": "ipython",
    "version": 3
   },
   "file_extension": ".py",
   "mimetype": "text/x-python",
   "name": "python",
   "nbconvert_exporter": "python",
   "pygments_lexer": "ipython3",
   "version": "3.12.3"
  }
 },
 "nbformat": 4,
 "nbformat_minor": 2
}
